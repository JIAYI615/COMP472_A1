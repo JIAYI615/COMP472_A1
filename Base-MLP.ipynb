{
 "cells": [
  {
   "cell_type": "code",
   "execution_count": 5,
   "id": "73d7c9e5-0b17-4bc1-ba9d-7acaa7d90cd6",
   "metadata": {},
   "outputs": [],
   "source": [
    "import pandas as pd\n",
    "import numpy as np\n",
    "from sklearn import preprocessing\n",
    "from sklearn.model_selection import train_test_split\n",
    "from sklearn.model_selection import GridSearchCV\n",
    "from sklearn.neural_network import MLPClassifier\n",
    "from sklearn import metrics\n",
    "import matplotlib.pyplot as plt\n",
    "%matplotlib inline"
   ]
  },
  {
   "cell_type": "markdown",
   "id": "e3a115b2-c90f-469b-bade-56e0a319ea67",
   "metadata": {},
   "source": [
    "# Abalone data set"
   ]
  },
  {
   "cell_type": "code",
   "execution_count": 20,
   "id": "f35fb477-0468-41bf-9b5c-be3695507269",
   "metadata": {},
   "outputs": [],
   "source": [
    "# Read and parse data\n",
    "rawData = pd.read_csv('abalone.csv')\n",
    "dataArr = rawData.values\n",
    "X = dataArr[:,1:]\n",
    "datay = dataArr[:,0]\n",
    "le = preprocessing.LabelEncoder()\n",
    "y = le.fit_transform(datay)"
   ]
  },
  {
   "cell_type": "code",
   "execution_count": 21,
   "id": "b6945ef8-d8fd-47bf-8468-669d646d13a2",
   "metadata": {},
   "outputs": [
    {
     "data": {
      "image/png": "[encoded data removed]",
      "text/plain": [
       "<Figure size 640x480 with 1 Axes>"
      ]
     },
     "metadata": {},
     "output_type": "display_data"
    }
   ],
   "source": [
    "# Display data distribution\n",
    "unique, counts = np.unique(datay, return_counts=True)\n",
    "means = [x*100/counts.sum() for x in counts]\n",
    "\n",
    "stats = dict(zip(unique, means))\n",
    "names = list(stats.keys())\n",
    "values = list(stats.values())\n",
    "\n",
    "plt.bar(range(len(stats)), values, tick_label=names)\n",
    "plt.xlabel(\"Types\")\n",
    "plt.ylabel(\"% of instances\")\n",
    "plt.show()"
   ]
  },
  {
   "cell_type": "code",
   "execution_count": 50,
   "id": "f6fcd6b7-54d1-4c08-9f08-20c95b809e46",
   "metadata": {},
   "outputs": [
    {
     "name": "stderr",
     "output_type": "stream",
     "text": [
      "C:\\Users\\x-man\\AppData\\Local\\Programs\\Python\\Python311\\Lib\\site-packages\\sklearn\\neural_network\\_multilayer_perceptron.py:691: ConvergenceWarning: Stochastic Optimizer: Maximum iterations (200) reached and the optimization hasn't converged yet.\n",
      "  warnings.warn(\n"
     ]
    }
   ],
   "source": [
    "# Split data and train the base-mlp\n",
    "X_train_aba, X_test_aba, y_train_aba, y_test_aba = train_test_split(X, y, train_size=0.8, random_state=0)\n",
    "baseMLP = MLPClassifier(hidden_layer_sizes=(100, 100), activation='logistic', solver='sgd').fit(X_train_aba, y_train_aba)\n",
    "y_pred_aba = baseMLP.predict(X_test_aba)"
   ]
  },
  {
   "cell_type": "code",
   "execution_count": 51,
   "id": "497deb3e-bc7f-434b-8f02-b0e7876c1e2c",
   "metadata": {},
   "outputs": [
    {
     "name": "stdout",
     "output_type": "stream",
     "text": [
      "Accuracy:  0.5023923444976076\n",
      "Confusion Matrix:\n",
      " [[  0  12 230]\n",
      " [  0 133 149]\n",
      " [  0  25 287]]\n",
      "              precision    recall  f1-score   support\n",
      "\n",
      "           F       0.00      0.00      0.00       242\n",
      "           I       0.78      0.47      0.59       282\n",
      "           M       0.43      0.92      0.59       312\n",
      "\n",
      "    accuracy                           0.50       836\n",
      "   macro avg       0.40      0.46      0.39       836\n",
      "weighted avg       0.42      0.50      0.42       836\n",
      "\n"
     ]
    },
    {
     "name": "stderr",
     "output_type": "stream",
     "text": [
      "C:\\Users\\x-man\\AppData\\Local\\Programs\\Python\\Python311\\Lib\\site-packages\\sklearn\\metrics\\_classification.py:1471: UndefinedMetricWarning: Precision and F-score are ill-defined and being set to 0.0 in labels with no predicted samples. Use `zero_division` parameter to control this behavior.\n",
      "  _warn_prf(average, modifier, msg_start, len(result))\n",
      "C:\\Users\\x-man\\AppData\\Local\\Programs\\Python\\Python311\\Lib\\site-packages\\sklearn\\metrics\\_classification.py:1471: UndefinedMetricWarning: Precision and F-score are ill-defined and being set to 0.0 in labels with no predicted samples. Use `zero_division` parameter to control this behavior.\n",
      "  _warn_prf(average, modifier, msg_start, len(result))\n",
      "C:\\Users\\x-man\\AppData\\Local\\Programs\\Python\\Python311\\Lib\\site-packages\\sklearn\\metrics\\_classification.py:1471: UndefinedMetricWarning: Precision and F-score are ill-defined and being set to 0.0 in labels with no predicted samples. Use `zero_division` parameter to control this behavior.\n",
      "  _warn_prf(average, modifier, msg_start, len(result))\n"
     ]
    }
   ],
   "source": [
    "# View results\n",
    "acc = metrics.accuracy_score(y_test_aba, y_pred_aba)\n",
    "cm = metrics.confusion_matrix(y_test_aba, y_pred_aba)\n",
    "print(\"Accuracy: \", acc)\n",
    "print(\"Confusion Matrix:\\n\", cm)\n",
    "target_classes = ['F', 'I', 'M']\n",
    "print(metrics.classification_report(y_test_aba, y_pred_aba, target_names=target_classes))"
   ]
  },
  {
   "cell_type": "markdown",
   "id": "28ae9a2e-d03a-4905-987f-d228c338178a",
   "metadata": {},
   "source": [
    "# Penguins data set"
   ]
  },
  {
   "cell_type": "code",
   "execution_count": 96,
   "id": "9fbcfacd-2a25-42b9-8e55-74e6b330b289",
   "metadata": {},
   "outputs": [],
   "source": [
    "# Read and parse data\n",
    "rawData = pd.read_csv('penguins.csv')\n",
    "# dataArr = pd.get_dummies(rawData, columns=['island', 'sex'], prefix=['island', 'sex']).values\n",
    "dataArr = rawData.values\n",
    "X_pen = dataArr[:,1:]\n",
    "datay_pen = dataArr[:,0]\n",
    "le = preprocessing.LabelEncoder()\n",
    "y_pen = le.fit_transform(datay_pen)\n",
    "X_pen[:,0] = le.fit_transform(X_pen[:,0])\n",
    "X_pen[:,5] = le.fit_transform(X_pen[:,5])"
   ]
  },
  {
   "cell_type": "code",
   "execution_count": 97,
   "id": "97a1ca97-6deb-406d-a366-e5c0d8e4e86f",
   "metadata": {},
   "outputs": [
    {
     "data": {
      "image/png": "[encoded data removed]",
      "text/plain": [
       "<Figure size 640x480 with 1 Axes>"
      ]
     },
     "metadata": {},
     "output_type": "display_data"
    }
   ],
   "source": [
    "# Display data distribution\n",
    "unique, counts = np.unique(datay_pen, return_counts=True)\n",
    "means = [x*100/counts.sum() for x in counts]\n",
    "\n",
    "stats = dict(zip(unique, means))\n",
    "names = list(stats.keys())\n",
    "values = list(stats.values())\n",
    "\n",
    "plt.bar(range(len(stats)), values, tick_label=names)\n",
    "plt.xlabel(\"Types\")\n",
    "plt.ylabel(\"% of instances\")\n",
    "plt.show()"
   ]
  },
  {
   "cell_type": "code",
   "execution_count": 98,
   "id": "e2264d98-967e-475a-be83-70c6284ad0ea",
   "metadata": {},
   "outputs": [],
   "source": [
    "# Split data and train the base-mlp\n",
    "X_train_pen, X_test_pen, y_train_pen, y_test_pen = train_test_split(X_pen, y_pen, train_size=0.8, random_state=0)\n",
    "baseMLP = MLPClassifier(hidden_layer_sizes=(100, 100), activation='logistic', solver='sgd').fit(X_train_pen, y_train_pen)\n",
    "y_pred_pen = baseMLP.predict(X_test_pen)"
   ]
  },
  {
   "cell_type": "code",
   "execution_count": 99,
   "id": "e6433466-51d4-4e86-a540-2da565ec07c9",
   "metadata": {},
   "outputs": [
    {
     "name": "stdout",
     "output_type": "stream",
     "text": [
      "Accuracy:  0.582089552238806\n",
      "Confusion Matrix:\n",
      " [[39  0  0]\n",
      " [10  0  0]\n",
      " [18  0  0]]\n",
      "              precision    recall  f1-score   support\n",
      "\n",
      "      Adelie       0.58      1.00      0.74        39\n",
      "   Chinstrap       0.00      0.00      0.00        10\n",
      "      Gentoo       0.00      0.00      0.00        18\n",
      "\n",
      "    accuracy                           0.58        67\n",
      "   macro avg       0.19      0.33      0.25        67\n",
      "weighted avg       0.34      0.58      0.43        67\n",
      "\n"
     ]
    },
    {
     "name": "stderr",
     "output_type": "stream",
     "text": [
      "C:\\Users\\x-man\\AppData\\Local\\Programs\\Python\\Python311\\Lib\\site-packages\\sklearn\\metrics\\_classification.py:1471: UndefinedMetricWarning: Precision and F-score are ill-defined and being set to 0.0 in labels with no predicted samples. Use `zero_division` parameter to control this behavior.\n",
      "  _warn_prf(average, modifier, msg_start, len(result))\n",
      "C:\\Users\\x-man\\AppData\\Local\\Programs\\Python\\Python311\\Lib\\site-packages\\sklearn\\metrics\\_classification.py:1471: UndefinedMetricWarning: Precision and F-score are ill-defined and being set to 0.0 in labels with no predicted samples. Use `zero_division` parameter to control this behavior.\n",
      "  _warn_prf(average, modifier, msg_start, len(result))\n",
      "C:\\Users\\x-man\\AppData\\Local\\Programs\\Python\\Python311\\Lib\\site-packages\\sklearn\\metrics\\_classification.py:1471: UndefinedMetricWarning: Precision and F-score are ill-defined and being set to 0.0 in labels with no predicted samples. Use `zero_division` parameter to control this behavior.\n",
      "  _warn_prf(average, modifier, msg_start, len(result))\n"
     ]
    }
   ],
   "source": [
    "# View results\n",
    "acc = metrics.accuracy_score(y_test_pen, y_pred_pen)\n",
    "cm = metrics.confusion_matrix(y_test_pen, y_pred_pen)\n",
    "print(\"Accuracy: \", acc)\n",
    "print(\"Confusion Matrix:\\n\", cm)\n",
    "target_classes = ['Adelie', 'Chinstrap', 'Gentoo']\n",
    "print(metrics.classification_report(y_test_pen, y_pred_pen, target_names=target_classes))"
   ]
  },
  {
   "cell_type": "code",
   "execution_count": null,
   "id": "ca3bcfec-e9ac-44a9-9817-3eadf0f52c45",
   "metadata": {},
   "outputs": [],
   "source": []
  }
 ],
 "metadata": {
  "kernelspec": {
   "display_name": "Python 3 (ipykernel)",
   "language": "python",
   "name": "python3"
  },
  "language_info": {
   "codemirror_mode": {
    "name": "ipython",
    "version": 3
   },
   "file_extension": ".py",
   "mimetype": "text/x-python",
   "name": "python",
   "nbconvert_exporter": "python",
   "pygments_lexer": "ipython3",
   "version": "3.8.17"
  }
 },
 "nbformat": 4,
 "nbformat_minor": 5
}
